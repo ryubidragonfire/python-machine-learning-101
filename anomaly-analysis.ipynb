{
 "cells": [
  {
   "cell_type": "markdown",
   "metadata": {},
   "source": [
    "# Anomaly Analysis\n",
    "- non-autocorrelated\n",
    "- autocorrelated (e.g. time-series)\n",
    "\n",
    "Exerpt from **[1]**:\n",
    "\n",
    "1. **Point Anomalies:** If an individual data instance can be considered as anomalous with respect to the rest of the data (e.g. purchase with large transaction value)\n",
    "\n",
    "2. **Contextual Anomalies:** If a data instance is anomalous in a specific context, but not otherwise ( anomaly if occur at certain time or certain region. e.g. large spike at middle of night)\n",
    "\n",
    "3. **Collective Anomalies:** If a collection of related data instances is anomalous with respect to the entire data set, but not individual values. They have two variations.\n",
    "\n",
    "    3.1 Events in unexpected order ( ordered. e.g. breaking rhythm in ECG)\n",
    "    \n",
    "    3.2 Unexpected value combinations ( unordered. e.g. buying large number of expensive items)\n",
    "    \n",
    "See **[1]** flowchart to get an idea which techniques to use. "
   ]
  },
  {
   "cell_type": "markdown",
   "metadata": {},
   "source": [
    "### Tools:\n",
    "infer.net"
   ]
  },
  {
   "cell_type": "markdown",
   "metadata": {
    "collapsed": true
   },
   "source": [
    "### Reference:\n",
    "\n",
    "[1] Good read: [anomaly-detection-concepts-and-techniques](https://iwringer.wordpress.com/2015/11/17/anomaly-detection-concepts-and-techniques/)\n",
    "\n",
    "**Anomaly Detection**\n",
    "\n",
    "[A1] [Wikipedia anomaly detection](https://en.wikipedia.org/wiki/Anomaly_detection)\n",
    "\n",
    "[A2] Survey on Anomaly Detection using Data Mining Techniques, Shikha Agrawal, Jitendra Agrawal, 19th International Conference on Knowledge Based and Intelligent Information and Engineering Systems\n",
    "\n",
    "[A3] [A Survey on Social Media Anomaly Detection, Yu](http://www.kdd.org/exploration_files/18-1-Article1.pdf)\n",
    "\n",
    "[A4] [Methods for Anomaly Detection: a Survey,  Kalinichenko](http://ceur-ws.org/Vol-1297/020-25_paper-5.pdf)\n",
    "\n",
    "[A5] [Anomaly Detection: A Survey, Chandola, 2007](https://pdfs.semanticscholar.org/7b5a/c1fb5627addf92ad5804a6569a6cfa9385ac.pdf)\n",
    "\n",
    "**Anomaly Detection for Discrete Sequence/Time Series**\n",
    "\n",
    "[T1] Survey on Outlier Pattern Detection Techniques for Time-Series Data, Archana, 2012\n",
    "\n",
    "[T2] Anomaly Detection for Discrete Sequences: A Survey, Chandola, 2009\n",
    "\n",
    "[T3] Anomaly Detection of Time Series, Cheboli, 2010\n",
    "\n",
    "[T4] [Anomaly detection and sequential statistics in time series.ppt](https://people.eecs.berkeley.edu/~jordan/courses/294-fall09/lectures/time/slides.ppt)\n",
    "\n",
    "[T5] [Anomaly Detection A Tutorial.ppt](https://www.siam.org/meetings/sdm08/TS2.ppt)\n",
    "\n",
    "[T6] [A Brief Survey on Sequence Classification, Xing] (https://www.cs.sfu.ca/~jpei/publications/Sequence%20Classification.pdf)\n",
    "\n",
    "[T7] [Survey on Time-Series Data Classification, Amr](http://tarekamr.appspot.com/pdfs/tsdm2012.pdf)\n",
    " "
   ]
  },
  {
   "cell_type": "code",
   "execution_count": null,
   "metadata": {
    "collapsed": true
   },
   "outputs": [],
   "source": []
  }
 ],
 "metadata": {
  "kernelspec": {
   "display_name": "Python 3",
   "language": "python",
   "name": "python3"
  },
  "language_info": {
   "codemirror_mode": {
    "name": "ipython",
    "version": 3
   },
   "file_extension": ".py",
   "mimetype": "text/x-python",
   "name": "python",
   "nbconvert_exporter": "python",
   "pygments_lexer": "ipython3",
   "version": "3.4.4"
  }
 },
 "nbformat": 4,
 "nbformat_minor": 0
}
