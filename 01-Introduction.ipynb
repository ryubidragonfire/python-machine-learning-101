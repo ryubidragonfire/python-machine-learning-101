{
 "cells": [
  {
   "cell_type": "markdown",
   "metadata": {},
   "source": [
    "# 3 Typical Types of Machine Learning\n",
    "\n",
    "1. **Supervised Learning**\n",
    "    * **Classification** for predicting class label\n",
    "    * **Regression** for predicting continous value\n",
    "    \n",
    "2. **Un-supervised Learning**\n",
    "    * **Clustering** for exploring data structure\n",
    "    * **Dimensionality reduction** for data compression\n",
    "    \n",
    "3. **Reinforcement Learning**"
   ]
  },
  {
   "cell_type": "markdown",
   "metadata": {},
   "source": [
    "## Notations\n",
    "\n",
    "A data set, $X$, of 100 rows samples, with 3 feature columns:\n",
    "\n",
    "$$\\mathbf{X} = \\left[\\begin{array}\n",
    "{rrr}\n",
    "x^{(0)}_1 & x^{(0)}_2 & x^{(0)}_3 \\\\\n",
    "x^{(1)}_1 & x^{(0)}_2 & x^{(0)}_3 \\\\\n",
    ". & . & . \\\\\n",
    ". & . & . \\\\\n",
    ". & . & .\\\\\n",
    "x^{(99)}_1 & x^{(99)}_2 & x^{(99)}_3\n",
    "\\end{array}\\right]\n",
    "$$"
   ]
  },
  {
   "cell_type": "markdown",
   "metadata": {},
   "source": [
    "Row vector $\\mathbf{x}^{(i)}$\n",
    "\n",
    "$$\\mathbf{x}^{(i)} = [x^{(i)}_1 x^{(i)}_2 x^{(i)}_3 ]$$"
   ]
  },
  {
   "cell_type": "markdown",
   "metadata": {},
   "source": [
    "Column vector $\\mathbf{x}_j$\n",
    "\n",
    "$$\\mathbf{X} = \\left[\\begin{array}\n",
    "{rrr}\n",
    "x^{(0)}_1 \\\\\n",
    "x^{(1)}_1 \\\\\n",
    ". \\\\\n",
    ". \\\\\n",
    ". \\\\\n",
    "x^{(99)}_1\n",
    "\\end{array}\\right]\n",
    "$$"
   ]
  },
  {
   "cell_type": "markdown",
   "metadata": {},
   "source": [
    "### Reference\n",
    "\n",
    "http://csrgxtu.github.io/2015/03/20/Writing-Mathematic-Fomulars-in-Markdown/\n",
    "http://www.statpower.net/Content/310/R%20Stuff/SampleMarkdown.html"
   ]
  },
  {
   "cell_type": "code",
   "execution_count": null,
   "metadata": {
    "collapsed": true
   },
   "outputs": [],
   "source": []
  }
 ],
 "metadata": {
  "kernelspec": {
   "display_name": "Python 3",
   "language": "python",
   "name": "python3"
  },
  "language_info": {
   "codemirror_mode": {
    "name": "ipython",
    "version": 3
   },
   "file_extension": ".py",
   "mimetype": "text/x-python",
   "name": "python",
   "nbconvert_exporter": "python",
   "pygments_lexer": "ipython3",
   "version": "3.4.4"
  }
 },
 "nbformat": 4,
 "nbformat_minor": 0
}
